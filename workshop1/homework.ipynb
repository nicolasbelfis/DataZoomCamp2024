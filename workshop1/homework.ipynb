{
 "cells": [
  {
   "cell_type": "code",
   "execution_count": 1,
   "id": "8bd70e89",
   "metadata": {},
   "outputs": [],
   "source": [
    "def square_root_generator(limit):\n",
    "    n = 1\n",
    "    while n <= limit:\n",
    "        yield n ** 0.5\n",
    "        n += 1"
   ]
  },
  {
   "cell_type": "code",
   "execution_count": 2,
   "id": "ded6f6e9",
   "metadata": {},
   "outputs": [],
   "source": [
    "res = square_root_generator(5)"
   ]
  },
  {
   "cell_type": "code",
   "execution_count": 3,
   "id": "2c4e41f3",
   "metadata": {},
   "outputs": [
    {
     "name": "stdout",
     "output_type": "stream",
     "text": [
      "hello 1.0\n",
      "hello 1.4142135623730951\n",
      "hello 1.7320508075688772\n",
      "hello 2.0\n",
      "hello 2.23606797749979\n"
     ]
    }
   ],
   "source": [
    "sum = 0\n",
    "for r in res:\n",
    "    print(f'hello {r}')\n",
    "    sum += r"
   ]
  },
  {
   "cell_type": "code",
   "execution_count": 4,
   "id": "58249ec1",
   "metadata": {},
   "outputs": [
    {
     "name": "stdout",
     "output_type": "stream",
     "text": [
      "8.382332347441762\n"
     ]
    }
   ],
   "source": [
    "print(sum)"
   ]
  },
  {
   "cell_type": "code",
   "execution_count": 5,
   "id": "7f09d500",
   "metadata": {},
   "outputs": [
    {
     "name": "stdout",
     "output_type": "stream",
     "text": [
      "hello 1.0\n",
      "hello 1.4142135623730951\n",
      "hello 1.7320508075688772\n",
      "hello 2.0\n",
      "hello 2.23606797749979\n",
      "hello 2.449489742783178\n",
      "hello 2.6457513110645907\n",
      "hello 2.8284271247461903\n",
      "hello 3.0\n",
      "hello 3.1622776601683795\n",
      "hello 3.3166247903554\n",
      "hello 3.4641016151377544\n",
      "hello 3.605551275463989\n"
     ]
    }
   ],
   "source": [
    "res = square_root_generator(13)\n",
    "for r in res:\n",
    "    print(f'hello {r}')"
   ]
  },
  {
   "cell_type": "code",
   "execution_count": 6,
   "id": "a3043521",
   "metadata": {},
   "outputs": [
    {
     "name": "stdout",
     "output_type": "stream",
     "text": [
      "{'ID': 1, 'Name': 'Person_1', 'Age': 26, 'City': 'City_A'}\n",
      "{'ID': 2, 'Name': 'Person_2', 'Age': 27, 'City': 'City_A'}\n",
      "{'ID': 3, 'Name': 'Person_3', 'Age': 28, 'City': 'City_A'}\n",
      "{'ID': 4, 'Name': 'Person_4', 'Age': 29, 'City': 'City_A'}\n",
      "{'ID': 5, 'Name': 'Person_5', 'Age': 30, 'City': 'City_A'}\n",
      "{'ID': 3, 'Name': 'Person_3', 'Age': 33, 'City': 'City_B', 'Occupation': 'Job_3'}\n",
      "{'ID': 4, 'Name': 'Person_4', 'Age': 34, 'City': 'City_B', 'Occupation': 'Job_4'}\n",
      "{'ID': 5, 'Name': 'Person_5', 'Age': 35, 'City': 'City_B', 'Occupation': 'Job_5'}\n",
      "{'ID': 6, 'Name': 'Person_6', 'Age': 36, 'City': 'City_B', 'Occupation': 'Job_6'}\n",
      "{'ID': 7, 'Name': 'Person_7', 'Age': 37, 'City': 'City_B', 'Occupation': 'Job_7'}\n",
      "{'ID': 8, 'Name': 'Person_8', 'Age': 38, 'City': 'City_B', 'Occupation': 'Job_8'}\n"
     ]
    }
   ],
   "source": [
    "def people_1():\n",
    "    for i in range(1, 6):\n",
    "        yield {\"ID\": i, \"Name\": f\"Person_{i}\", \"Age\": 25 + i, \"City\": \"City_A\"}\n",
    "\n",
    "for person in people_1():\n",
    "    print(person)\n",
    "\n",
    "\n",
    "def people_2():\n",
    "    for i in range(3, 9):\n",
    "        yield {\"ID\": i, \"Name\": f\"Person_{i}\", \"Age\": 30 + i, \"City\": \"City_B\", \"Occupation\": f\"Job_{i}\"}\n",
    "\n",
    "\n",
    "for person in people_2():\n",
    "    print(person)"
   ]
  },
  {
   "cell_type": "code",
   "execution_count": 7,
   "id": "769e0487",
   "metadata": {},
   "outputs": [
    {
     "name": "stdout",
     "output_type": "stream",
     "text": [
      "hello 26\n",
      "hello 27\n",
      "hello 28\n",
      "hello 29\n",
      "hello 30\n",
      "hello 33\n",
      "hello 34\n",
      "hello 35\n",
      "hello 36\n",
      "hello 37\n",
      "hello 38\n"
     ]
    }
   ],
   "source": [
    "data = []\n",
    "\n",
    "for person in people_1():\n",
    "    data.append(person)\n",
    "    \n",
    "for person in people_2():\n",
    "    data.append(person)\n",
    "\n",
    "for item in data:\n",
    "    print(f'hello {item[\"Age\"]}')"
   ]
  },
  {
   "cell_type": "code",
   "execution_count": 8,
   "id": "76cf5529",
   "metadata": {},
   "outputs": [],
   "source": [
    "%%capture\n",
    "!pip install dlt[duckdb]\n",
    "\n",
    "import dlt\n",
    "import duckdb\n"
   ]
  },
  {
   "cell_type": "code",
   "execution_count": 9,
   "id": "524c260c",
   "metadata": {},
   "outputs": [
    {
     "ename": "IOException",
     "evalue": "IO Error: Could not set lock on file \"/home/nico/DataZoomCamp2024/workshop1/dlt_ipykernel_launcher.duckdb\": Resource temporarily unavailable",
     "output_type": "error",
     "traceback": [
      "\u001b[0;31m---------------------------------------------------------------------------\u001b[0m",
      "\u001b[0;31mIOException\u001b[0m                               Traceback (most recent call last)",
      "Cell \u001b[0;32mIn[9], line 2\u001b[0m\n\u001b[1;32m      1\u001b[0m generators_pipe \u001b[38;5;241m=\u001b[39m dlt\u001b[38;5;241m.\u001b[39mpipeline(destination\u001b[38;5;241m=\u001b[39m\u001b[38;5;124m'\u001b[39m\u001b[38;5;124mduckdb\u001b[39m\u001b[38;5;124m'\u001b[39m, dataset_name\u001b[38;5;241m=\u001b[39m\u001b[38;5;124m'\u001b[39m\u001b[38;5;124mgenerators\u001b[39m\u001b[38;5;124m'\u001b[39m)\n\u001b[0;32m----> 2\u001b[0m conn \u001b[38;5;241m=\u001b[39m \u001b[43mduckdb\u001b[49m\u001b[38;5;241;43m.\u001b[39;49m\u001b[43mconnect\u001b[49m\u001b[43m(\u001b[49m\u001b[38;5;124;43mf\u001b[39;49m\u001b[38;5;124;43m'\u001b[39;49m\u001b[38;5;132;43;01m{\u001b[39;49;00m\u001b[43mgenerators_pipe\u001b[49m\u001b[38;5;241;43m.\u001b[39;49m\u001b[43mpipeline_name\u001b[49m\u001b[38;5;132;43;01m}\u001b[39;49;00m\u001b[38;5;124;43m.duckdb\u001b[39;49m\u001b[38;5;124;43m'\u001b[39;49m\u001b[43m)\u001b[49m\n",
      "\u001b[0;31mIOException\u001b[0m: IO Error: Could not set lock on file \"/home/nico/DataZoomCamp2024/workshop1/dlt_ipykernel_launcher.duckdb\": Resource temporarily unavailable"
     ]
    }
   ],
   "source": [
    "generators_pipe = dlt.pipeline(destination='duckdb', dataset_name='generators')\n",
    "conn = duckdb.connect(f'{generators_pipe.pipeline_name}.duckdb')"
   ]
  },
  {
   "cell_type": "code",
   "execution_count": null,
   "id": "2ecfc587",
   "metadata": {},
   "outputs": [],
   "source": [
    "generators_pipe.run(people_1(),table_name=\"people\",write_disposition=\"replace\", primary_key=\"ID\")\n",
    "generators_pipe.run(people_2(),table_name=\"people\",write_disposition=\"merge\", primary_key=\"ID\")"
   ]
  },
  {
   "cell_type": "code",
   "execution_count": null,
   "id": "9be11a59",
   "metadata": {},
   "outputs": [],
   "source": [
    "conn.sql(f'set search_path = {generators_pipe.dataset_name}')\n",
    "display(conn.sql(\"show tables\"))"
   ]
  },
  {
   "cell_type": "code",
   "execution_count": null,
   "id": "0ad67950",
   "metadata": {},
   "outputs": [],
   "source": [
    "display(conn.sql(\"select * from people\"))"
   ]
  },
  {
   "cell_type": "code",
   "execution_count": null,
   "id": "b9f0bb40",
   "metadata": {},
   "outputs": [],
   "source": [
    "sum_age = 0\n",
    "for item in data:\n",
    "    sum_age += item[\"Age\"]\n",
    "print(sum_age)\n",
    "display(conn.sql(\"select sum(people.age) from people\"))"
   ]
  },
  {
   "cell_type": "code",
   "execution_count": null,
   "id": "08b1a271",
   "metadata": {},
   "outputs": [],
   "source": []
  }
 ],
 "metadata": {
  "kernelspec": {
   "display_name": "Python 3 (ipykernel)",
   "language": "python",
   "name": "python3"
  },
  "language_info": {
   "codemirror_mode": {
    "name": "ipython",
    "version": 3
   },
   "file_extension": ".py",
   "mimetype": "text/x-python",
   "name": "python",
   "nbconvert_exporter": "python",
   "pygments_lexer": "ipython3",
   "version": "3.11.5"
  }
 },
 "nbformat": 4,
 "nbformat_minor": 5
}
