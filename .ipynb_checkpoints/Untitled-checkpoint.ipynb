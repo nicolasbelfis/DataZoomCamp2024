{
 "cells": [
  {
   "cell_type": "code",
   "execution_count": 3,
   "id": "62e428cc-90c7-46ee-adba-fb61fa1aa7f4",
   "metadata": {},
   "outputs": [],
   "source": [
    "import pandas as pd"
   ]
  },
  {
   "cell_type": "code",
   "execution_count": 4,
   "id": "a45db723-0223-4bee-aa75-22a5408df72e",
   "metadata": {},
   "outputs": [
    {
     "data": {
      "text/plain": [
       "'2.1.3'"
      ]
     },
     "execution_count": 4,
     "metadata": {},
     "output_type": "execute_result"
    }
   ],
   "source": [
    "pd.__version__"
   ]
  },
  {
   "cell_type": "code",
   "execution_count": 9,
   "id": "312f048b-a5b3-4312-a058-7d164fc89db9",
   "metadata": {},
   "outputs": [],
   "source": [
    "pf = pd.read_csv(\"yellow_tripdata_2021-01.csv.gz\",nrows=100)"
   ]
  },
  {
   "cell_type": "code",
   "execution_count": 11,
   "id": "ae0b2d12-e886-4ade-a3b9-9977f0a5d9e3",
   "metadata": {},
   "outputs": [
    {
     "data": {
      "text/plain": [
       "0    2021-01-01 00:30:10\n",
       "1    2021-01-01 00:51:20\n",
       "2    2021-01-01 00:43:30\n",
       "3    2021-01-01 00:15:48\n",
       "4    2021-01-01 00:31:49\n",
       "             ...        \n",
       "95   2021-01-01 00:12:41\n",
       "96   2021-01-01 00:23:29\n",
       "97   2021-01-01 00:46:17\n",
       "98   2021-01-01 00:28:16\n",
       "99   2021-01-01 00:42:35\n",
       "Name: tpep_pickup_datetime, Length: 100, dtype: datetime64[ns]"
      ]
     },
     "execution_count": 11,
     "metadata": {},
     "output_type": "execute_result"
    }
   ],
   "source": [
    "pf.tpep_pickup_datetime = pd.to_datetime(pf.tpep_pickup_datetime)\n",
    "pf.tpep_dropoff_datetime = pd.to_datetime(pf.tpep_dropoff_datetime)"
   ]
  },
  {
   "cell_type": "code",
   "execution_count": 12,
   "id": "c92b90ea-7a5e-4a38-8d10-aaa3f3275cfc",
   "metadata": {},
   "outputs": [
    {
     "data": {
      "text/plain": [
       "'CREATE TABLE \"yellow_taxi_data\" (\\n\"VendorID\" INTEGER,\\n  \"tpep_pickup_datetime\" TEXT,\\n  \"tpep_dropoff_datetime\" TEXT,\\n  \"passenger_count\" INTEGER,\\n  \"trip_distance\" REAL,\\n  \"RatecodeID\" INTEGER,\\n  \"store_and_fwd_flag\" TEXT,\\n  \"PULocationID\" INTEGER,\\n  \"DOLocationID\" INTEGER,\\n  \"payment_type\" INTEGER,\\n  \"fare_amount\" REAL,\\n  \"extra\" REAL,\\n  \"mta_tax\" REAL,\\n  \"tip_amount\" REAL,\\n  \"tolls_amount\" REAL,\\n  \"improvement_surcharge\" REAL,\\n  \"total_amount\" REAL,\\n  \"congestion_surcharge\" REAL\\n)'"
      ]
     },
     "execution_count": 12,
     "metadata": {},
     "output_type": "execute_result"
    }
   ],
   "source": [
    "pd.io.sql.get_schema(pf,name=\"yellow_taxi_data\")"
   ]
  },
  {
   "cell_type": "code",
   "execution_count": null,
   "id": "d81d7f77-5814-46f2-964c-3f180131da85",
   "metadata": {},
   "outputs": [],
   "source": []
  },
  {
   "cell_type": "code",
   "execution_count": null,
   "id": "cfec5398-7feb-49f5-b453-11506d0bb3be",
   "metadata": {},
   "outputs": [],
   "source": []
  },
  {
   "cell_type": "code",
   "execution_count": null,
   "id": "24524a9f-ac49-4a0b-82dc-9a10f03d6b9a",
   "metadata": {},
   "outputs": [],
   "source": []
  },
  {
   "cell_type": "code",
   "execution_count": null,
   "id": "abde14f4-13ef-475c-afd4-8f6d186ddcb9",
   "metadata": {},
   "outputs": [],
   "source": []
  },
  {
   "cell_type": "code",
   "execution_count": null,
   "id": "6a50a2a2-2d1e-4133-b3e0-cb5bdcb28c07",
   "metadata": {},
   "outputs": [],
   "source": []
  },
  {
   "cell_type": "code",
   "execution_count": null,
   "id": "f976b1f8-fdb6-4c42-81f6-d55af01fb5a6",
   "metadata": {},
   "outputs": [],
   "source": []
  },
  {
   "cell_type": "code",
   "execution_count": null,
   "id": "b756751b-1d1c-4f06-82f3-e118ba3d7c3d",
   "metadata": {},
   "outputs": [],
   "source": []
  },
  {
   "cell_type": "code",
   "execution_count": null,
   "id": "c40452d1-2b8d-4b8c-9ac9-615584eed22c",
   "metadata": {},
   "outputs": [],
   "source": []
  },
  {
   "cell_type": "code",
   "execution_count": null,
   "id": "8c6aa349-1403-4c2b-9e64-9bbd7fa60dd1",
   "metadata": {},
   "outputs": [],
   "source": []
  }
 ],
 "metadata": {
  "kernelspec": {
   "display_name": "Python 3 (ipykernel)",
   "language": "python",
   "name": "python3"
  },
  "language_info": {
   "codemirror_mode": {
    "name": "ipython",
    "version": 3
   },
   "file_extension": ".py",
   "mimetype": "text/x-python",
   "name": "python",
   "nbconvert_exporter": "python",
   "pygments_lexer": "ipython3",
   "version": "3.10.13"
  }
 },
 "nbformat": 4,
 "nbformat_minor": 5
}
