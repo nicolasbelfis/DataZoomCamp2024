{
 "cells": [
  {
   "cell_type": "code",
   "execution_count": 82,
   "id": "10862be5",
   "metadata": {},
   "outputs": [],
   "source": [
    "import pyspark\n",
    "from pyspark.sql import SparkSession\n",
    "import os\n",
    "\n",
    "os.environ[\"JAVA_HOME\"] = \"/home/nico/DataZoomCamp2024/week5-batch-spark/spark/jdk-11.0.2\"\n",
    "spark = SparkSession.builder \\\n",
    "    .master(\"local[*]\") \\\n",
    "    .appName('test') \\\n",
    "    .getOrCreate()"
   ]
  },
  {
   "cell_type": "code",
   "execution_count": 83,
   "id": "69abef3e",
   "metadata": {},
   "outputs": [
    {
     "data": {
      "text/plain": [
       "'3.5.1'"
      ]
     },
     "execution_count": 83,
     "metadata": {},
     "output_type": "execute_result"
    }
   ],
   "source": [
    "spark.version"
   ]
  },
  {
   "cell_type": "code",
   "execution_count": 84,
   "id": "19cc1d8c",
   "metadata": {},
   "outputs": [
    {
     "name": "stderr",
     "output_type": "stream",
     "text": [
      "                                                                                \r"
     ]
    }
   ],
   "source": [
    "df = spark.read \\\n",
    "    .option(\"header\", \"true\") \\\n",
    "    .csv('fhv_tripdata_2019-10.csv')\n",
    "\n",
    "df = df.repartition(6)\n",
    "\n",
    "df.write.parquet('data/pq/fhv/')"
   ]
  },
  {
   "cell_type": "code",
   "execution_count": 85,
   "id": "4f77e198",
   "metadata": {},
   "outputs": [
    {
     "name": "stdout",
     "output_type": "stream",
     "text": [
      "total 39168\n",
      "drwxr-xr-x 2 nico nico    4096 Feb 27 15:12 \u001b[0m\u001b[01;34m.\u001b[0m/\n",
      "drwxr-xr-x 4 nico nico    4096 Feb 27 15:12 \u001b[01;34m..\u001b[0m/\n",
      "-rw-r--r-- 1 nico nico       8 Feb 27 15:12 ._SUCCESS.crc\n",
      "-rw-r--r-- 1 nico nico   51812 Feb 27 15:12 .part-00000-c6cc2dd6-3ee0-4910-a3c0-49db26b95444-c000.snappy.parquet.crc\n",
      "-rw-r--r-- 1 nico nico   51736 Feb 27 15:12 .part-00001-c6cc2dd6-3ee0-4910-a3c0-49db26b95444-c000.snappy.parquet.crc\n",
      "-rw-r--r-- 1 nico nico   51816 Feb 27 15:12 .part-00002-c6cc2dd6-3ee0-4910-a3c0-49db26b95444-c000.snappy.parquet.crc\n",
      "-rw-r--r-- 1 nico nico   51800 Feb 27 15:12 .part-00003-c6cc2dd6-3ee0-4910-a3c0-49db26b95444-c000.snappy.parquet.crc\n",
      "-rw-r--r-- 1 nico nico   51808 Feb 27 15:12 .part-00004-c6cc2dd6-3ee0-4910-a3c0-49db26b95444-c000.snappy.parquet.crc\n",
      "-rw-r--r-- 1 nico nico   51756 Feb 27 15:12 .part-00005-c6cc2dd6-3ee0-4910-a3c0-49db26b95444-c000.snappy.parquet.crc\n",
      "-rw-r--r-- 1 nico nico       0 Feb 27 15:12 _SUCCESS\n",
      "-rw-r--r-- 1 nico nico 6630585 Feb 27 15:12 part-00000-c6cc2dd6-3ee0-4910-a3c0-49db26b95444-c000.snappy.parquet\n",
      "-rw-r--r-- 1 nico nico 6620812 Feb 27 15:12 part-00001-c6cc2dd6-3ee0-4910-a3c0-49db26b95444-c000.snappy.parquet\n",
      "-rw-r--r-- 1 nico nico 6630915 Feb 27 15:12 part-00002-c6cc2dd6-3ee0-4910-a3c0-49db26b95444-c000.snappy.parquet\n",
      "-rw-r--r-- 1 nico nico 6629144 Feb 27 15:12 part-00003-c6cc2dd6-3ee0-4910-a3c0-49db26b95444-c000.snappy.parquet\n",
      "-rw-r--r-- 1 nico nico 6629988 Feb 27 15:12 part-00004-c6cc2dd6-3ee0-4910-a3c0-49db26b95444-c000.snappy.parquet\n",
      "-rw-r--r-- 1 nico nico 6623713 Feb 27 15:12 part-00005-c6cc2dd6-3ee0-4910-a3c0-49db26b95444-c000.snappy.parquet\n"
     ]
    }
   ],
   "source": [
    " ls -la ./data/pq/fhv/"
   ]
  },
  {
   "cell_type": "code",
   "execution_count": 86,
   "id": "c2ea0a4f",
   "metadata": {},
   "outputs": [
    {
     "name": "stderr",
     "output_type": "stream",
     "text": [
      "[Stage 145:>                                                        (0 + 2) / 2]\r"
     ]
    },
    {
     "name": "stderr",
     "output_type": "stream",
     "text": [
      "                                                                                \r"
     ]
    },
    {
     "data": {
      "text/plain": [
       "62610"
      ]
     },
     "execution_count": 86,
     "metadata": {},
     "output_type": "execute_result"
    }
   ],
   "source": [
    "from pyspark.sql import functions as F\n",
    "df.withColumn('pickup_date', F.to_date(df.pickup_datetime)).filter(\"pickup_date = '2019-10-15'\").count()"
   ]
  },
  {
   "cell_type": "code",
   "execution_count": 87,
   "id": "435a8dba",
   "metadata": {},
   "outputs": [
    {
     "name": "stderr",
     "output_type": "stream",
     "text": [
      "/home/nico/anaconda3/lib/python3.11/site-packages/pyspark/sql/dataframe.py:329: FutureWarning: Deprecated in 2.0, use createOrReplaceTempView instead.\n",
      "  warnings.warn(\"Deprecated in 2.0, use createOrReplaceTempView instead.\", FutureWarning)\n"
     ]
    },
    {
     "data": {
      "text/plain": [
       "['dispatching_base_num',\n",
       " 'pickup_datetime',\n",
       " 'dropOff_datetime',\n",
       " 'PUlocationID',\n",
       " 'DOlocationID',\n",
       " 'SR_Flag',\n",
       " 'Affiliated_base_number']"
      ]
     },
     "execution_count": 87,
     "metadata": {},
     "output_type": "execute_result"
    }
   ],
   "source": [
    "df.registerTempTable('fhv')\n",
    "df.columns"
   ]
  },
  {
   "cell_type": "code",
   "execution_count": 88,
   "id": "2086425c",
   "metadata": {},
   "outputs": [
    {
     "name": "stdout",
     "output_type": "stream",
     "text": [
      "+----------+-------------+--------------------+------------+\n",
      "|LocationID|      Borough|                Zone|service_zone|\n",
      "+----------+-------------+--------------------+------------+\n",
      "|         1|          EWR|      Newark Airport|         EWR|\n",
      "|         2|       Queens|         Jamaica Bay|   Boro Zone|\n",
      "|         3|        Bronx|Allerton/Pelham G...|   Boro Zone|\n",
      "|         4|    Manhattan|       Alphabet City| Yellow Zone|\n",
      "|         5|Staten Island|       Arden Heights|   Boro Zone|\n",
      "|         6|Staten Island|Arrochar/Fort Wad...|   Boro Zone|\n",
      "|         7|       Queens|             Astoria|   Boro Zone|\n",
      "|         8|       Queens|        Astoria Park|   Boro Zone|\n",
      "|         9|       Queens|          Auburndale|   Boro Zone|\n",
      "|        10|       Queens|        Baisley Park|   Boro Zone|\n",
      "|        11|     Brooklyn|          Bath Beach|   Boro Zone|\n",
      "|        12|    Manhattan|        Battery Park| Yellow Zone|\n",
      "|        13|    Manhattan|   Battery Park City| Yellow Zone|\n",
      "|        14|     Brooklyn|           Bay Ridge|   Boro Zone|\n",
      "|        15|       Queens|Bay Terrace/Fort ...|   Boro Zone|\n",
      "|        16|       Queens|             Bayside|   Boro Zone|\n",
      "|        17|     Brooklyn|             Bedford|   Boro Zone|\n",
      "|        18|        Bronx|        Bedford Park|   Boro Zone|\n",
      "|        19|       Queens|           Bellerose|   Boro Zone|\n",
      "|        20|        Bronx|             Belmont|   Boro Zone|\n",
      "+----------+-------------+--------------------+------------+\n",
      "only showing top 20 rows\n",
      "\n"
     ]
    }
   ],
   "source": [
    "df_zones = spark.read.option(\"header\", True).csv('taxi_zone_lookup.csv')\n",
    "df_zones.show()"
   ]
  },
  {
   "cell_type": "code",
   "execution_count": 89,
   "id": "d468f24c",
   "metadata": {},
   "outputs": [],
   "source": [
    "df_zones.registerTempTable('zones')"
   ]
  },
  {
   "cell_type": "code",
   "execution_count": 90,
   "id": "735fc97e",
   "metadata": {},
   "outputs": [
    {
     "name": "stderr",
     "output_type": "stream",
     "text": [
      "[Stage 156:======================================>                  (4 + 2) / 6]\r"
     ]
    },
    {
     "name": "stdout",
     "output_type": "stream",
     "text": [
      "+-------------------+-----------+\n",
      "|count(PUlocationID)|       Zone|\n",
      "+-------------------+-----------+\n",
      "|                  1|Jamaica Bay|\n",
      "+-------------------+-----------+\n",
      "\n"
     ]
    },
    {
     "name": "stderr",
     "output_type": "stream",
     "text": [
      "                                                                                \r"
     ]
    }
   ],
   "source": [
    "spark.sql(\"\"\"\n",
    "SELECT\n",
    "    count(PUlocationID),\n",
    "    zones.Zone\n",
    "FROM \n",
    "    fhv\n",
    "join zones on fhv.PULocationID = zones.LocationID\n",
    "GROUP BY\n",
    "    zones.Zone\n",
    "ORDER BY\n",
    "    count(PUlocationID) ASC\n",
    "LIMIT 1;\n",
    "\"\"\").show()"
   ]
  }
 ],
 "metadata": {
  "kernelspec": {
   "display_name": "Python 3 (ipykernel)",
   "language": "python",
   "name": "python3"
  },
  "language_info": {
   "codemirror_mode": {
    "name": "ipython",
    "version": 3
   },
   "file_extension": ".py",
   "mimetype": "text/x-python",
   "name": "python",
   "nbconvert_exporter": "python",
   "pygments_lexer": "ipython3",
   "version": "3.11.5"
  }
 },
 "nbformat": 4,
 "nbformat_minor": 5
}
